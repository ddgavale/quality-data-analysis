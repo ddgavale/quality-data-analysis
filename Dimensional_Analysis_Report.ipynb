{
 "cells": [
  {
   "cell_type": "markdown",
   "id": "bf524424",
   "metadata": {},
   "source": [
    "# 📏 Dimensional Analysis Report\n",
    "This notebook analyzes measurement data for automotive parts using Cp, Cpk, and tolerance checks."
   ]
  },
  {
   "cell_type": "code",
   "execution_count": null,
   "id": "1df8a40a",
   "metadata": {},
   "outputs": [],
   "source": [
    "import pandas as pd\n",
    "\n",
    "# Load dataset\n",
    "df = pd.read_excel(\"sample_measurement_data.xlsx\")\n",
    "df.head()"
   ]
  },
  {
   "cell_type": "markdown",
   "id": "e0af3f0c",
   "metadata": {},
   "source": [
    "## ✅ Check Tolerance Compliance"
   ]
  },
  {
   "cell_type": "code",
   "execution_count": null,
   "id": "f25542bc",
   "metadata": {},
   "outputs": [],
   "source": [
    "# Flag measurements within tolerance\n",
    "df['In Tolerance'] = df.apply(lambda x: x['Lower Limit'] <= x['Value'] <= x['Upper Limit'], axis=1)\n",
    "df.head()"
   ]
  },
  {
   "cell_type": "markdown",
   "id": "57cc7019",
   "metadata": {},
   "source": [
    "## 📊 Cp and Cpk Calculations (Simplified)"
   ]
  },
  {
   "cell_type": "code",
   "execution_count": null,
   "id": "293ba799",
   "metadata": {},
   "outputs": [],
   "source": [
    "# Simple Cp and Cpk calculations\n",
    "std_dev = df['Value'].std()\n",
    "\n",
    "def calculate_cp(row):\n",
    "    return (row['Upper Limit'] - row['Lower Limit']) / (6 * std_dev)\n",
    "\n",
    "def calculate_cpk(row):\n",
    "    return min(\n",
    "        (row['Upper Limit'] - row['Value']) / (3 * std_dev),\n",
    "        (row['Value'] - row['Lower Limit']) / (3 * std_dev)\n",
    "    )\n",
    "\n",
    "df['Cp'] = df.apply(calculate_cp, axis=1)\n",
    "df['Cpk'] = df.apply(calculate_cpk, axis=1)\n",
    "df[['Part Name', 'Measurement Point', 'Value', 'Cp', 'Cpk']].head()"
   ]
  },
  {
   "cell_type": "markdown",
   "id": "a200904f",
   "metadata": {},
   "source": [
    "## 📈 Summary: Pass/Fail Rate by Part"
   ]
  },
  {
   "cell_type": "code",
   "execution_count": null,
   "id": "d98c7fee",
   "metadata": {},
   "outputs": [],
   "source": [
    "summary = df.groupby('Part Name')['In Tolerance'].value_counts(normalize=True).unstack().fillna(0)\n",
    "summary.columns = ['Fail Rate', 'Pass Rate']\n",
    "summary * 100"
   ]
  },
  {
   "cell_type": "markdown",
   "id": "a0cc1819",
   "metadata": {},
   "source": [
    "## 💾 Export Results to Excel"
   ]
  },
  {
   "cell_type": "code",
   "execution_count": null,
   "id": "fffcc9f5",
   "metadata": {},
   "outputs": [],
   "source": [
    "df.to_excel(\"dimensional_report_output.xlsx\", index=False)\n",
    "print(\"Report exported as 'dimensional_report_output.xlsx'\")"
   ]
  }
 ],
 "metadata": {},
 "nbformat": 4,
 "nbformat_minor": 5
}
